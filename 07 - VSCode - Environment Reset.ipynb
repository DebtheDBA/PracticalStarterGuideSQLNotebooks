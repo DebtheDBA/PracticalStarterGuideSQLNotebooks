{
 "cells": [
  {
   "attachments": {},
   "cell_type": "markdown",
   "metadata": {},
   "source": [
    "# <u> Reset Test Environment </u>\n",
    "\n",
    "This notebook will use C#, SQL and PowerShell\n",
    "\n",
    "\n",
    "Use this notebook to reset my test environment for the \"Practical Starter Guide to SQL Notebooks\" session.\n",
    "\n",
    "<b>NOTE:</b> This script works best if no tools are open and this tool has other scripts closed as well."
   ]
  },
  {
   "attachments": {},
   "cell_type": "markdown",
   "metadata": {
    "azdata_cell_guid": "506643c3-169d-46c8-857f-43a38a525b9f"
   },
   "source": [
    "Pull down the .NET interactive packages for connecting to SQL Server before starting:\n",
    "\n",
    "to pull down the latest, use #r \"nuget:Microsoft.DotNet.Interactive.SqlServer,*-*\""
   ]
  },
  {
   "cell_type": "code",
   "execution_count": null,
   "metadata": {
    "azdata_cell_guid": "a8ad2091-1f41-4901-8d75-f91070be2395",
    "dotnet_interactive": {
     "language": "csharp"
    },
    "language": "dotnet-interactive.csharp"
   },
   "outputs": [],
   "source": [
    "#r \"nuget: Microsoft.DotNet.Interactive.SqlServer,1.0.0-beta.23152.2\""
   ]
  },
  {
   "attachments": {},
   "cell_type": "markdown",
   "metadata": {},
   "source": [
    "## <u> SQL Server clean up:</u>\n",
    "* Restore the Superheroes back to the original\n",
    "\n",
    "NOTE: If you're curious as to why I'm turning off encryption - https://github.com/dotnet/SqlClient/issues/1836. \n",
    "\n",
    "<i>Remember this is a test and only a test.</i> \n",
    "For production - make sure you have encryption for connection strings set up properly."
   ]
  },
  {
   "cell_type": "code",
   "execution_count": null,
   "metadata": {
    "azdata_cell_guid": "6d6dac91-08d3-4338-9d24-6d1b4ba18237",
    "dotnet_interactive": {
     "language": "sql"
    },
    "language": "dotnet-interactive.sql"
   },
   "outputs": [],
   "source": [
    "#!connect mssql --kernel-name mydatabase \"Persist Security Info=False; Integrated Security=true; Encrypt=False; Initial Catalog=master; Server=debthedba\\sql2019\""
   ]
  },
  {
   "cell_type": "code",
   "execution_count": null,
   "metadata": {
    "azdata_cell_guid": "2c0e9517-2d4f-40c1-9372-ef94f0ad5023",
    "dotnet_interactive": {
     "language": "sql"
    },
    "language": "dotnet-interactive.sql"
   },
   "outputs": [],
   "source": [
    "#!sql-mydatabase\n",
    "\n",
    "DECLARE @session varchar(30), @backupfile nvarchar(300), @today DATE = getdate()\n",
    "\n",
    "SELECT @Session = 'PracticalStarterGuide'\n",
    "SELECT @backupfile = 'C:\\GitRepo\\SQL_Presentations\\Superhero Demo DB Setup\\Superheroes_SQL2019_' + @Session + '_Initial.BAK'\n",
    "SELECT @backupfile\n",
    "\n",
    "DECLARE @backuplogname nvarchar(50) = 'Superheroes_LogBackup' + convert(varchar(10), @today) + '.BAK'\n",
    "\n",
    "RESTORE DATABASE [Superheroes] \n",
    "FROM  DISK = @backupfile WITH  FILE = 1,  NOUNLOAD,  REPLACE,  STATS = 5\n"
   ]
  },
  {
   "cell_type": "markdown",
   "metadata": {},
   "source": [
    "## <u> Directory Clean Up: </u>\n",
    "\n",
    "Clean up directories\n",
    "* Delete the database project directory \n",
    "* Remove the docker container\n"
   ]
  },
  {
   "cell_type": "code",
   "execution_count": null,
   "metadata": {
    "azdata_cell_guid": "c6d6a760-fd95-476d-8058-0dac15e26e02",
    "dotnet_interactive": {
     "language": "pwsh"
    },
    "language": "dotnet-interactive.pwsh"
   },
   "outputs": [],
   "source": [
    "$dbprojlocation = \"C:\\GitRepo\\SQL_Presentations\\A Practical Starter Guide to SQL Notebooks\"\n",
    "\n",
    "Get-ChildItem -Path $dbprojlocation | WHERE {$_.Name -like 'Superheroes*'} | ForEach-Object {\n",
    "    $name = $_.FullName\n",
    "\n",
    "    write-host \"Removing item $name ...\"\n",
    "    Remove-Item $name -Recurse -Force\n",
    "}"
   ]
  },
  {
   "cell_type": "code",
   "execution_count": null,
   "metadata": {
    "azdata_cell_guid": "7d420d1c-7a23-40a7-9ea2-867d117825dd",
    "dotnet_interactive": {
     "language": "pwsh"
    },
    "language": "dotnet-interactive.pwsh"
   },
   "outputs": [],
   "source": [
    "docker container stop PracticalStarterGuide\n",
    "docker rm PracticalStarterGuide"
   ]
  }
 ],
 "metadata": {
  "kernelspec": {
   "display_name": ".NET (C#)",
   "language": "C#",
   "name": ".net-csharp"
  },
  "language_info": {
   "name": "polyglot-notebook"
  },
  "polyglot_notebook": {
   "kernelInfo": {
    "defaultKernelName": "csharp",
    "items": [
     {
      "aliases": [],
      "name": ".NET"
     },
     {
      "aliases": [
       "C#",
       "c#"
      ],
      "languageName": "C#",
      "name": "csharp"
     },
     {
      "aliases": [
       "F#",
       "f#"
      ],
      "languageName": "F#",
      "name": "fsharp"
     },
     {
      "aliases": [],
      "languageName": "HTML",
      "name": "html"
     },
     {
      "aliases": [
       "js"
      ],
      "languageName": "JavaScript",
      "name": "javascript"
     },
     {
      "aliases": [],
      "languageName": "KQL",
      "name": "kql"
     },
     {
      "aliases": [],
      "languageName": "Mermaid",
      "name": "mermaid"
     },
     {
      "aliases": [
       "powershell"
      ],
      "languageName": "PowerShell",
      "name": "pwsh"
     },
     {
      "aliases": [],
      "languageName": "SQL",
      "name": "sql"
     },
     {
      "aliases": [],
      "languageName": "T-SQL",
      "name": "sql-mydatabase"
     },
     {
      "aliases": [],
      "name": "value"
     },
     {
      "aliases": [
       "frontend"
      ],
      "name": "vscode"
     },
     {
      "aliases": [],
      "name": "webview"
     }
    ]
   }
  }
 },
 "nbformat": 4,
 "nbformat_minor": 2
}
